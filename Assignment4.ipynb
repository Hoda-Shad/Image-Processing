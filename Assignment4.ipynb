{
  "nbformat": 4,
  "nbformat_minor": 0,
  "metadata": {
    "colab": {
      "name": "Assignment4.ipynb",
      "provenance": [],
      "collapsed_sections": [],
      "authorship_tag": "ABX9TyMEPf63+bWFxfEnV1g65SPY",
      "include_colab_link": true
    },
    "kernelspec": {
      "name": "python3",
      "display_name": "Python 3"
    },
    "language_info": {
      "name": "python"
    }
  },
  "cells": [
    {
      "cell_type": "markdown",
      "metadata": {
        "id": "view-in-github",
        "colab_type": "text"
      },
      "source": [
        "<a href=\"https://colab.research.google.com/github/Hoda-Shad/Image-Processing/blob/main/Assignment4.ipynb\" target=\"_parent\"><img src=\"https://colab.research.google.com/assets/colab-badge.svg\" alt=\"Open In Colab\"/></a>"
      ]
    },
    {
      "cell_type": "markdown",
      "source": [
        ""
      ],
      "metadata": {
        "id": "TRarC_W0LV0X"
      }
    },
    {
      "cell_type": "code",
      "execution_count": null,
      "metadata": {
        "id": "66u0jExELSz7"
      },
      "outputs": [],
      "source": [
        "#1"
      ]
    },
    {
      "cell_type": "code",
      "source": [
        "n= int (input())\n",
        "m = int(input())\n",
        "for i in range (n):\n",
        "  for j in range (n):\n",
        "    if j%2 == 0 :\n",
        "      print(\"*\", end =\"\")\n",
        "    else :\n",
        "      print(\"#\", end =\"\")  \n",
        "  print(\"\\n\")"
      ],
      "metadata": {
        "colab": {
          "base_uri": "https://localhost:8080/"
        },
        "id": "vOMxlW33LZrQ",
        "outputId": "6be72d28-cdd8-44b6-9c91-aba63236bcd7"
      },
      "execution_count": null,
      "outputs": [
        {
          "output_type": "stream",
          "name": "stdout",
          "text": [
            "30\n",
            "60\n",
            "*#*#*#*#*#*#*#*#*#*#*#*#*#*#*#\n",
            "\n",
            "*#*#*#*#*#*#*#*#*#*#*#*#*#*#*#\n",
            "\n",
            "*#*#*#*#*#*#*#*#*#*#*#*#*#*#*#\n",
            "\n",
            "*#*#*#*#*#*#*#*#*#*#*#*#*#*#*#\n",
            "\n",
            "*#*#*#*#*#*#*#*#*#*#*#*#*#*#*#\n",
            "\n",
            "*#*#*#*#*#*#*#*#*#*#*#*#*#*#*#\n",
            "\n",
            "*#*#*#*#*#*#*#*#*#*#*#*#*#*#*#\n",
            "\n",
            "*#*#*#*#*#*#*#*#*#*#*#*#*#*#*#\n",
            "\n",
            "*#*#*#*#*#*#*#*#*#*#*#*#*#*#*#\n",
            "\n",
            "*#*#*#*#*#*#*#*#*#*#*#*#*#*#*#\n",
            "\n",
            "*#*#*#*#*#*#*#*#*#*#*#*#*#*#*#\n",
            "\n",
            "*#*#*#*#*#*#*#*#*#*#*#*#*#*#*#\n",
            "\n",
            "*#*#*#*#*#*#*#*#*#*#*#*#*#*#*#\n",
            "\n",
            "*#*#*#*#*#*#*#*#*#*#*#*#*#*#*#\n",
            "\n",
            "*#*#*#*#*#*#*#*#*#*#*#*#*#*#*#\n",
            "\n",
            "*#*#*#*#*#*#*#*#*#*#*#*#*#*#*#\n",
            "\n",
            "*#*#*#*#*#*#*#*#*#*#*#*#*#*#*#\n",
            "\n",
            "*#*#*#*#*#*#*#*#*#*#*#*#*#*#*#\n",
            "\n",
            "*#*#*#*#*#*#*#*#*#*#*#*#*#*#*#\n",
            "\n",
            "*#*#*#*#*#*#*#*#*#*#*#*#*#*#*#\n",
            "\n",
            "*#*#*#*#*#*#*#*#*#*#*#*#*#*#*#\n",
            "\n",
            "*#*#*#*#*#*#*#*#*#*#*#*#*#*#*#\n",
            "\n",
            "*#*#*#*#*#*#*#*#*#*#*#*#*#*#*#\n",
            "\n",
            "*#*#*#*#*#*#*#*#*#*#*#*#*#*#*#\n",
            "\n",
            "*#*#*#*#*#*#*#*#*#*#*#*#*#*#*#\n",
            "\n",
            "*#*#*#*#*#*#*#*#*#*#*#*#*#*#*#\n",
            "\n",
            "*#*#*#*#*#*#*#*#*#*#*#*#*#*#*#\n",
            "\n",
            "*#*#*#*#*#*#*#*#*#*#*#*#*#*#*#\n",
            "\n",
            "*#*#*#*#*#*#*#*#*#*#*#*#*#*#*#\n",
            "\n",
            "*#*#*#*#*#*#*#*#*#*#*#*#*#*#*#\n",
            "\n"
          ]
        }
      ]
    },
    {
      "cell_type": "markdown",
      "source": [
        "#2\n"
      ],
      "metadata": {
        "id": "FapujtdMTpOe"
      }
    },
    {
      "cell_type": "code",
      "source": [
        "import math\n",
        "def Daraje_Do(A,B,C):\n",
        " Delta = B**2 - 4*A*C\n",
        " if Delta<0:\n",
        "   print (\"javab nadarad\")\n",
        " else:\n",
        "  x1 =( -B + math.sqrt (Delta)) / (2*A)\n",
        "  x2 = ( -B - math.sqrt (Delta)) / (2*A)\n",
        "  print (\"x1=\" ,x1 ,\"and\", \"x2 =\", x2)\n",
        "Daraje_Do(5,2 , 1)"
      ],
      "metadata": {
        "colab": {
          "base_uri": "https://localhost:8080/"
        },
        "id": "m9XbbbcuTqzI",
        "outputId": "2a1686da-382f-474d-ace9-94cf5ee264f0"
      },
      "execution_count": null,
      "outputs": [
        {
          "output_type": "stream",
          "name": "stdout",
          "text": [
            "javab nadarad\n"
          ]
        }
      ]
    },
    {
      "cell_type": "markdown",
      "source": [
        "#3"
      ],
      "metadata": {
        "id": "33vxaeKKiPKS"
      }
    },
    {
      "cell_type": "code",
      "source": [
        "def zarb(n,m):\n",
        "  for i in range (1,n+1):\n",
        "    for j in range (1,m+1):\n",
        "     print(i*j, end=\" \")\n",
        "    print(\"\\n\")\n",
        "  \n",
        "\n",
        "n = int(input())\n",
        "m = int(input())\n",
        "zarb(n,m)\n"
      ],
      "metadata": {
        "colab": {
          "base_uri": "https://localhost:8080/"
        },
        "id": "-kSwEJUXiQii",
        "outputId": "0a8a7455-e8e9-4e44-f26b-3e91753a6120"
      },
      "execution_count": null,
      "outputs": [
        {
          "output_type": "stream",
          "name": "stdout",
          "text": [
            "10\n",
            "10\n",
            "1 2 3 4 5 6 7 8 9 10 \n",
            "\n",
            "2 4 6 8 10 12 14 16 18 20 \n",
            "\n",
            "3 6 9 12 15 18 21 24 27 30 \n",
            "\n",
            "4 8 12 16 20 24 28 32 36 40 \n",
            "\n",
            "5 10 15 20 25 30 35 40 45 50 \n",
            "\n",
            "6 12 18 24 30 36 42 48 54 60 \n",
            "\n",
            "7 14 21 28 35 42 49 56 63 70 \n",
            "\n",
            "8 16 24 32 40 48 56 64 72 80 \n",
            "\n",
            "9 18 27 36 45 54 63 72 81 90 \n",
            "\n",
            "10 20 30 40 50 60 70 80 90 100 \n",
            "\n"
          ]
        }
      ]
    },
    {
      "cell_type": "markdown",
      "source": [
        "#4\n"
      ],
      "metadata": {
        "id": "d8cTr1UEown1"
      }
    },
    {
      "cell_type": "code",
      "source": [
        "def sentece(word):\n",
        "  counter=1\n",
        "  for i in (word):\n",
        "    if i == \" \":\n",
        "      counter+=1\n",
        "  print(counter)\n",
        "  \n",
        "word = input(\"Input your sentence: \")\n",
        "sentece(word)"
      ],
      "metadata": {
        "colab": {
          "base_uri": "https://localhost:8080/"
        },
        "id": "nkPq_NLxU0qm",
        "outputId": "a5e07fac-c7d7-4371-a69d-2aeadabd08f8"
      },
      "execution_count": 4,
      "outputs": [
        {
          "output_type": "stream",
          "name": "stdout",
          "text": [
            "Input your sentence: I am a student\n",
            "4\n"
          ]
        }
      ]
    },
    {
      "cell_type": "markdown",
      "source": [
        "#5"
      ],
      "metadata": {
        "id": "XZkRTQLIjctx"
      }
    },
    {
      "cell_type": "code",
      "source": [
        "n = int (input(\"Enter the number: \"))\n",
        "factorial = 1\n",
        "flag = 0 \n",
        "for i in range(1, n):\n",
        "  factorial = factorial*i\n",
        "  if factorial == n:\n",
        "    print (\"yes\")\n",
        "    flag = 1\n",
        "if flag ==0 : \n",
        "  print (\"No\")\n"
      ],
      "metadata": {
        "colab": {
          "base_uri": "https://localhost:8080/"
        },
        "id": "XMh-m3FH8pUK",
        "outputId": "2f9f2d59-1bf7-4d4a-f4bc-59cc0b8692ab"
      },
      "execution_count": 28,
      "outputs": [
        {
          "output_type": "stream",
          "name": "stdout",
          "text": [
            "Enter the number: 12\n",
            "No\n"
          ]
        }
      ]
    },
    {
      "cell_type": "markdown",
      "source": [
        "#"
      ],
      "metadata": {
        "id": "fng79DL-HhV7"
      }
    },
    {
      "cell_type": "markdown",
      "source": [
        "#6"
      ],
      "metadata": {
        "id": "NXWYy8JgHndG"
      }
    },
    {
      "cell_type": "code",
      "source": [
        "\n",
        "def A(num):\n",
        "  list = []\n",
        "  for i in range (1, num+1):\n",
        "    if num% i ==0 :\n",
        "      list.append(i)\n",
        "  return(list)\n",
        "a = int(input (\"Enter num1:\"))\n",
        "b = int (input (\"Enter num2: \"))\n",
        "list1 = A(a)\n",
        "list2 = A(b)\n",
        "print(list1)\n",
        "print(list2)\n",
        "list3 =[]\n",
        "for i in list1:\n",
        "  for j in list2:\n",
        "    if  i == j :\n",
        "      list3.append(i)\n",
        "print(\"B.M.M is\" , max(list3))"
      ],
      "metadata": {
        "colab": {
          "base_uri": "https://localhost:8080/"
        },
        "id": "bAMmLLvnHpo2",
        "outputId": "23e03981-9bda-40d2-ec90-d6b70ac73ed8"
      },
      "execution_count": 47,
      "outputs": [
        {
          "output_type": "stream",
          "name": "stdout",
          "text": [
            "Enter num1:79\n",
            "Enter num2: 2\n",
            "[1, 79]\n",
            "[1, 2]\n",
            "B.M.M is 1\n"
          ]
        }
      ]
    },
    {
      "cell_type": "markdown",
      "source": [
        "#7\n"
      ],
      "metadata": {
        "id": "OxWl8OFuTEHe"
      }
    },
    {
      "cell_type": "code",
      "source": [
        "first_number = int(input('First number is '))\n",
        "second_number = int(input('Second number is '))\n",
        "ma = max(first_number, second_number)\n",
        "mi = min(first_number, second_number)\n",
        "\n",
        "for i in range(1, (ma * mi)):\n",
        "    if ((ma * i) % mi == 0):\n",
        "        answer = (ma * i)\n",
        "        break\n",
        "        \n",
        "print(answer)"
      ],
      "metadata": {
        "id": "l-RwjzKtTGH4"
      },
      "execution_count": null,
      "outputs": []
    }
  ]
}