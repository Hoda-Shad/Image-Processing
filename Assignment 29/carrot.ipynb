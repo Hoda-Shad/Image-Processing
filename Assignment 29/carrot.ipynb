{
 "cells": [
  {
   "cell_type": "code",
   "execution_count": 166,
   "id": "1b7f64a3-1778-42a3-ac7e-5f75663bb6af",
   "metadata": {},
   "outputs": [],
   "source": [
    "import cv2"
   ]
  },
  {
   "cell_type": "code",
   "execution_count": 167,
   "id": "d4b2bb13-30c3-4a12-9a1e-089e0fce7a40",
   "metadata": {},
   "outputs": [],
   "source": [
    "import matplotlib.pyplot as plt"
   ]
  },
  {
   "cell_type": "code",
   "execution_count": 168,
   "id": "e30c4fd5-1508-4159-a389-100fdb197cda",
   "metadata": {},
   "outputs": [],
   "source": [
    "# from PIL import Image\n",
    "\n",
    "# im = Image.open('carrot.jpg') # Can be many different formats.\n",
    "# pix = im.load()\n",
    "# x,y = im.size  # Get the width and hight of the image for iterating over\n",
    "# print(x,y)\n",
    "# for i in range (x):\n",
    "#     for j in range (y):\n",
    "#         # print(im.getpixel((i,j)))\n",
    "#         R,G,B = pix[i,j]  # Get the RGBA Value of the a pixel of an image\n",
    "#         # print(R,G,B)\n",
    "#         if (R > G) and (R > B)and B<231 and G<231 :\n",
    "#             # print('hi')\n",
    "#             im.putpixel( (i,j), (50,205,50) )  # Set the RGBA Value of the image (tuple)\n",
    "# im.show('alive_parrot.png')"
   ]
  },
  {
   "cell_type": "code",
   "execution_count": 169,
   "id": "b502d15e-20e9-43da-8db8-6b7b4be19fd9",
   "metadata": {},
   "outputs": [
    {
     "data": {
      "text/plain": [
       "True"
      ]
     },
     "execution_count": 169,
     "metadata": {},
     "output_type": "execute_result"
    }
   ],
   "source": [
    "img = cv2.imread('Input/Carrot.jpg')\n",
    "img = cv2.cvtColor(img,cv2.COLOR_BGR2RGB)\n",
    "R,G,B = cv2.split(img)\n",
    "R_new = G\n",
    "G_new = G\n",
    "B_new = B\n",
    "img  = cv2.merge((B_new,G_new,R_new))\n",
    "cv2.imwrite('Output/new_carrot.jpg', img)\n"
   ]
  },
  {
   "cell_type": "code",
   "execution_count": null,
   "id": "acfc82bf-70e4-45b8-aa20-d90bec27acd8",
   "metadata": {},
   "outputs": [],
   "source": []
  }
 ],
 "metadata": {
  "kernelspec": {
   "display_name": "Python 3 (ipykernel)",
   "language": "python",
   "name": "python3"
  },
  "language_info": {
   "codemirror_mode": {
    "name": "ipython",
    "version": 3
   },
   "file_extension": ".py",
   "mimetype": "text/x-python",
   "name": "python",
   "nbconvert_exporter": "python",
   "pygments_lexer": "ipython3",
   "version": "3.10.0"
  }
 },
 "nbformat": 4,
 "nbformat_minor": 5
}
