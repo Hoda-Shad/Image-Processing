{
 "cells": [
  {
   "cell_type": "code",
   "execution_count": 1,
   "id": "b4c6f570-0fd3-4a6d-80be-a9c04e2a6fec",
   "metadata": {},
   "outputs": [],
   "source": [
    "import cv2\n",
    "import numpy as np "
   ]
  },
  {
   "cell_type": "code",
   "execution_count": 2,
   "id": "1b9214d2-6073-40d1-a959-9266a97d010e",
   "metadata": {},
   "outputs": [],
   "source": [
    "img = cv2.imread('input/download.jpg',0)\n"
   ]
  },
  {
   "cell_type": "code",
   "execution_count": 3,
   "id": "8280a70a-b9f9-422c-b7f6-77409d6de4b3",
   "metadata": {},
   "outputs": [],
   "source": [
    "def adjust_contrast_brightness(img, contrast:float=2.0, brightness:int=1):\n",
    "    \"\"\"\n",
    "    Adjusts contrast and brightness of an uint8 image.\n",
    "    contrast:   (0.0,  inf) with 1.0 leaving the contrast as is\n",
    "    brightness: [-255, 255] with 0 leaving the brightness as is\n",
    "    \"\"\"\n",
    "    brightness += int(round(255*(1-contrast)/2))\n",
    "    return cv2.addWeighted(img, contrast, img, 0, brightness)"
   ]
  },
  {
   "cell_type": "code",
   "execution_count": 4,
   "id": "04643908-f152-4caf-b936-da023004a6b9",
   "metadata": {},
   "outputs": [],
   "source": [
    "img = adjust_contrast_brightness(img)"
   ]
  },
  {
   "cell_type": "code",
   "execution_count": 5,
   "id": "1eef3be8-acb2-471b-b979-ece668930492",
   "metadata": {},
   "outputs": [
    {
     "data": {
      "text/plain": [
       "True"
      ]
     },
     "execution_count": 5,
     "metadata": {},
     "output_type": "execute_result"
    }
   ],
   "source": [
    "cv2.imwrite('output/nature_h_c.jpg', img )"
   ]
  },
  {
   "cell_type": "code",
   "execution_count": null,
   "id": "872f7dc7-d19b-469a-947b-90a4a8e90d51",
   "metadata": {},
   "outputs": [],
   "source": []
  },
  {
   "cell_type": "code",
   "execution_count": null,
   "id": "18c49cbf-8456-49dc-8165-5a4467c8b7ea",
   "metadata": {},
   "outputs": [],
   "source": []
  },
  {
   "cell_type": "code",
   "execution_count": null,
   "id": "f5606396-ce70-4fba-b107-1d3eff3b039d",
   "metadata": {},
   "outputs": [],
   "source": []
  },
  {
   "cell_type": "code",
   "execution_count": null,
   "id": "09042497-1f9d-4b28-9e6d-9003d63bf5a4",
   "metadata": {},
   "outputs": [],
   "source": []
  }
 ],
 "metadata": {
  "kernelspec": {
   "display_name": "Python 3 (ipykernel)",
   "language": "python",
   "name": "python3"
  },
  "language_info": {
   "codemirror_mode": {
    "name": "ipython",
    "version": 3
   },
   "file_extension": ".py",
   "mimetype": "text/x-python",
   "name": "python",
   "nbconvert_exporter": "python",
   "pygments_lexer": "ipython3",
   "version": "3.10.0"
  }
 },
 "nbformat": 4,
 "nbformat_minor": 5
}
