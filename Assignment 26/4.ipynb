{
 "cells": [
  {
   "cell_type": "code",
   "execution_count": null,
   "id": "f54889ab-dbd9-43b5-8fdf-e3bc0c17a50e",
   "metadata": {},
   "outputs": [],
   "source": [
    "import cv2"
   ]
  },
  {
   "cell_type": "code",
   "execution_count": null,
   "id": "eeeef399-609a-46ba-8303-9781b8154b8a",
   "metadata": {},
   "outputs": [],
   "source": [
    "import numpy as np "
   ]
  },
  {
   "cell_type": "code",
   "execution_count": null,
   "id": "cd19e8e5-2862-4ca9-8e4b-4adb99a3a116",
   "metadata": {},
   "outputs": [],
   "source": [
    "img = cv2.imread('input/sudoku.tif', 0)"
   ]
  },
  {
   "cell_type": "code",
   "execution_count": null,
   "id": "52f38adc-b9ca-4f13-9448-f9cf583e03c2",
   "metadata": {},
   "outputs": [],
   "source": [
    "# img_high_con = cv2.convertScaleAbs(img, alpha=1.9, beta=0)\n",
    "img = cv2.equalizeHist(img)"
   ]
  },
  {
   "cell_type": "code",
   "execution_count": null,
   "id": "dd9d342d-cab9-4d85-805c-2867e46b8f35",
   "metadata": {},
   "outputs": [],
   "source": [
    "cv2.imwrite('output/img_high_con.jpg', img)"
   ]
  },
  {
   "cell_type": "code",
   "execution_count": null,
   "id": "233293dd-4161-48da-b964-4e55b8352184",
   "metadata": {},
   "outputs": [],
   "source": [
    "cv2.waitKey()"
   ]
  },
  {
   "cell_type": "code",
   "execution_count": null,
   "id": "51177874-ae7f-44fa-808b-245a27e5b739",
   "metadata": {},
   "outputs": [],
   "source": [
    "cv2.imwrite('output/cropped.jpg', img[150:1350,175:1370])"
   ]
  },
  {
   "cell_type": "code",
   "execution_count": null,
   "id": "9a08c2d5-55d3-4c0e-bdf2-1ea3cfbd9a84",
   "metadata": {},
   "outputs": [],
   "source": [
    "img = cv2.imread('output/cropped.jpg' ,  0)"
   ]
  },
  {
   "cell_type": "code",
   "execution_count": null,
   "id": "ea16a548-98f2-4801-a45e-efe8e133c5d8",
   "metadata": {},
   "outputs": [],
   "source": [
    "rows,cols = img.shape"
   ]
  },
  {
   "cell_type": "code",
   "execution_count": null,
   "id": "a639b813-c259-41f3-b992-b9d9779c73ef",
   "metadata": {},
   "outputs": [],
   "source": [
    "k= 0 \n",
    "for i in range(0, rows, rows//9):\n",
    "    for j in range(0, cols, cols//9):\n",
    "        if 50 < np.average(img[int(i):int(i+rows//9) , int(j):int(j+cols//9]) <= 200:\n",
    "            num1 = img[int(i):int(i+rows//9) , int(j):int(j+cols//9)]\n",
    "            cv2.imwrite(f'output/Mnist/out{k}.jpg', num1)\n",
    "            k += 1\n",
    "            "
   ]
  },
  {
   "cell_type": "code",
   "execution_count": null,
   "id": "5de3200d-7ea0-4918-a7ca-79b3a9cfd7f8",
   "metadata": {},
   "outputs": [],
   "source": []
  },
  {
   "cell_type": "code",
   "execution_count": null,
   "id": "e469d8e5-80fd-461d-9996-44ee29c7c700",
   "metadata": {},
   "outputs": [],
   "source": []
  }
 ],
 "metadata": {
  "kernelspec": {
   "display_name": "Python 3 (ipykernel)",
   "language": "python",
   "name": "python3"
  },
  "language_info": {
   "codemirror_mode": {
    "name": "ipython",
    "version": 3
   },
   "file_extension": ".py",
   "mimetype": "text/x-python",
   "name": "python",
   "nbconvert_exporter": "python",
   "pygments_lexer": "ipython3",
   "version": "3.10.0"
  }
 },
 "nbformat": 4,
 "nbformat_minor": 5
}
