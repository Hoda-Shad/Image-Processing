{
  "nbformat": 4,
  "nbformat_minor": 0,
  "metadata": {
    "colab": {
      "name": "assignment1.ipynb",
      "provenance": [],
      "collapsed_sections": [],
      "authorship_tag": "ABX9TyN27UGW0UjlmMSeXZ89iLbV",
      "include_colab_link": true
    },
    "kernelspec": {
      "name": "python3",
      "display_name": "Python 3"
    },
    "language_info": {
      "name": "python"
    }
  },
  "cells": [
    {
      "cell_type": "markdown",
      "metadata": {
        "id": "view-in-github",
        "colab_type": "text"
      },
      "source": [
        "<a href=\"https://colab.research.google.com/github/Hoda-Shad/Image-Processing/blob/main/assignment1.ipynb\" target=\"_parent\"><img src=\"https://colab.research.google.com/assets/colab-badge.svg\" alt=\"Open In Colab\"/></a>"
      ]
    },
    {
      "cell_type": "markdown",
      "source": [
        "#7"
      ],
      "metadata": {
        "id": "0CuCn-uRoEUI"
      }
    },
    {
      "cell_type": "code",
      "source": [
        "import math "
      ],
      "metadata": {
        "id": "KR1wJUblgct5"
      },
      "execution_count": 25,
      "outputs": []
    },
    {
      "cell_type": "code",
      "execution_count": 28,
      "metadata": {
        "colab": {
          "base_uri": "https://localhost:8080/"
        },
        "id": "CUBPSQsycBsi",
        "outputId": "64edd060-2da6-4308-b8d6-7d29a0628a9c"
      },
      "outputs": [
        {
          "name": "stdout",
          "output_type": "stream",
          "text": [
            "Enter your first number26\n",
            "Enter your second number22\n"
          ]
        }
      ],
      "source": [
        "a = int ( input (\"Enter your first number\"))\n",
        "b = int ( input (\"Enter your second number\"))"
      ]
    },
    {
      "cell_type": "code",
      "source": [
        "op = input(\"Enter your desired operator\")"
      ],
      "metadata": {
        "colab": {
          "base_uri": "https://localhost:8080/"
        },
        "id": "nEv-_idFglpn",
        "outputId": "5ed44f10-9613-4f91-f446-ae0e2f564859"
      },
      "execution_count": 30,
      "outputs": [
        {
          "name": "stdout",
          "output_type": "stream",
          "text": [
            "Enter your desired operatorsin\n"
          ]
        }
      ]
    },
    {
      "cell_type": "code",
      "source": [
        "if op == \"+\" :\n",
        "       result = a+b \n",
        "if op == \"-\":\n",
        "       result = a-b\n",
        "if op == \"*\":\n",
        "       result = a*b\n",
        "if op ==\"/\":\n",
        "       result = a/b\n"
      ],
      "metadata": {
        "id": "Lc9nM97rhmdN"
      },
      "execution_count": 32,
      "outputs": []
    },
    {
      "cell_type": "code",
      "source": [
        "c  = int (input(\"Bararye Tavabe mosallasati addad ra vared konid\"))"
      ],
      "metadata": {
        "colab": {
          "base_uri": "https://localhost:8080/"
        },
        "id": "8z3QipenjUzQ",
        "outputId": "49626148-d696-44a1-b634-0e4749f8bd89"
      },
      "execution_count": 33,
      "outputs": [
        {
          "name": "stdout",
          "output_type": "stream",
          "text": [
            "Bararye Tavabe mosallasati add ra vared konid57\n"
          ]
        }
      ]
    },
    {
      "cell_type": "code",
      "source": [
        ""
      ],
      "metadata": {
        "id": "zdkJ0ICnmJLl"
      },
      "execution_count": null,
      "outputs": []
    },
    {
      "cell_type": "code",
      "source": [
        "c = math.radians(c)"
      ],
      "metadata": {
        "id": "wBFE1MyKjHX6"
      },
      "execution_count": 34,
      "outputs": []
    },
    {
      "cell_type": "code",
      "source": [
        "if op == \"sin\":\n",
        "     result = math.sin(c)"
      ],
      "metadata": {
        "id": "14oePE0bk7ud"
      },
      "execution_count": 35,
      "outputs": []
    },
    {
      "cell_type": "code",
      "source": [
        "if op == \"cos\":\n",
        "     result = math.cos(c)\n"
      ],
      "metadata": {
        "id": "OlLfV8_TlOr9"
      },
      "execution_count": 36,
      "outputs": []
    },
    {
      "cell_type": "code",
      "source": [
        "if op == \"Radical\":\n",
        "     result = math.sqrt(c)"
      ],
      "metadata": {
        "id": "zOHDr_EDlXyj"
      },
      "execution_count": 37,
      "outputs": []
    },
    {
      "cell_type": "code",
      "source": [
        "if op == \"cot\":\n",
        "    result = math.cos(c)/math.sin(C)"
      ],
      "metadata": {
        "id": "tJxzlSw-lnQE"
      },
      "execution_count": 38,
      "outputs": []
    },
    {
      "cell_type": "code",
      "source": [
        "if op == \"tan\":\n",
        "    result = math.sin(c)/math.cos(C)"
      ],
      "metadata": {
        "id": "tQkSd7gvm_0B"
      },
      "execution_count": 39,
      "outputs": []
    },
    {
      "cell_type": "code",
      "source": [
        "if op == \"factorial\":\n",
        "     result = math.factorial(c)"
      ],
      "metadata": {
        "id": "JK0X5eX0nJ6R"
      },
      "execution_count": 40,
      "outputs": []
    },
    {
      "cell_type": "code",
      "source": [
        "print(result)"
      ],
      "metadata": {
        "colab": {
          "base_uri": "https://localhost:8080/"
        },
        "id": "DA8Q93WDnVsY",
        "outputId": "dbcdc724-2871-42e6-82e8-ee37bfc7a123"
      },
      "execution_count": 41,
      "outputs": [
        {
          "output_type": "stream",
          "name": "stdout",
          "text": [
            "0.838670567945424\n"
          ]
        }
      ]
    },
    {
      "cell_type": "markdown",
      "source": [
        "#8"
      ],
      "metadata": {
        "id": "ducoLqlyoIyu"
      }
    },
    {
      "cell_type": "code",
      "source": [
        "a= int(input(\"azlae zele aval \"))\n",
        "b= int(input(\"azlae zele dovom \"))\n",
        "c= int(input(\"azlae zele sevvom \"))"
      ],
      "metadata": {
        "colab": {
          "base_uri": "https://localhost:8080/"
        },
        "id": "Lh2xGitRoKbG",
        "outputId": "7c374a17-ecd1-40fe-e5c2-9ea085068707"
      },
      "execution_count": 45,
      "outputs": [
        {
          "name": "stdout",
          "output_type": "stream",
          "text": [
            "azlae zele aval 2\n",
            "azlae zele dovom 3\n",
            "azlae zele sevvom 4\n"
          ]
        }
      ]
    },
    {
      "cell_type": "code",
      "source": [
        "if c <=a+b  and b< a+c  and a<b+c :\n",
        "     print(\"successful\")\n",
        "else :\n",
        "     print(\"The entire numberes cannot make a tringle\")"
      ],
      "metadata": {
        "colab": {
          "base_uri": "https://localhost:8080/"
        },
        "id": "2_0HX9SKovG-",
        "outputId": "781f474d-6b1b-47fd-b23f-88ef383f5cfe"
      },
      "execution_count": 48,
      "outputs": [
        {
          "output_type": "stream",
          "name": "stdout",
          "text": [
            "successful\n"
          ]
        }
      ]
    },
    {
      "cell_type": "markdown",
      "source": [
        "#9"
      ],
      "metadata": {
        "id": "AcXVG3rdp7_7"
      }
    },
    {
      "cell_type": "code",
      "source": [
        "weight = float (input(\"Enter your Weight in Kilogerams\"))\n",
        "height = float (input (\"Enter your Height in Centemeters\"))\n",
        "BMI = weight / ((height /100)**2)\n",
        "if BMI< 18.5: \n",
        "     result = \"you are under the normal Weight\"\n",
        "if 18.5 <BMI<24.9 : \n",
        "     result = \"yoohoo , You are in the normal range\"\n",
        "if 25<BMI<29.9:\n",
        "     result = \"you are getting overweight\" \n",
        "if  30 <BMI<34.9 :\n",
        "     result = \"you are above the normal diagram\"\n",
        "if BMI>35 :\n",
        "     result = \"you are on the Emergency conditon\"\n",
        "print(result)"
      ],
      "metadata": {
        "colab": {
          "base_uri": "https://localhost:8080/"
        },
        "id": "C8hszLJVo6tY",
        "outputId": "0f8de52b-64fa-4b7f-c169-8a2d6c336fe2"
      },
      "execution_count": 53,
      "outputs": [
        {
          "output_type": "stream",
          "name": "stdout",
          "text": [
            "Enter your Weight in Kilogerams69\n",
            "Enter your Height in Centemeters165\n",
            "you are getting overweight\n"
          ]
        }
      ]
    },
    {
      "cell_type": "markdown",
      "source": [
        "#10"
      ],
      "metadata": {
        "id": "2EL-MRvxtc4L"
      }
    },
    {
      "cell_type": "code",
      "source": [
        "name = input (\"input your first name : \")\n",
        "family = input (\"input your family name :\")\n",
        "grade1  =float (input (\"Enter you A1 number : \"))\n",
        "grade2  =float (input (\"Enter you A2 number : \"))\n",
        "grade3  =float (input (\"Enter you A3 number : \"))\n",
        "avg = (grade1 + grade2 +grade3 )/ 3\n",
        "if avg >= 17 : \n",
        "     result = \"Great\"\n",
        "elif  avg >= 12 and avg <17 :\n",
        "     result = \"Normal\"\n",
        "elif  avg <12:\n",
        "     result = \"Fail\"\n",
        "print(name , family , \"your condition is \" , result)\n"
      ],
      "metadata": {
        "colab": {
          "base_uri": "https://localhost:8080/"
        },
        "id": "QiNwCcUTtmW7",
        "outputId": "063178a4-7b90-4235-f14a-538b353195cb"
      },
      "execution_count": 56,
      "outputs": [
        {
          "output_type": "stream",
          "name": "stdout",
          "text": [
            "input your first name : Hoda\n",
            "input your family name :Shad\n",
            "Enter you A1 number : 12\n",
            "Enter you A2 number : 10\n",
            "Enter you A3 number : 10\n",
            "Hoda Shad your condition is  Fail\n"
          ]
        }
      ]
    },
    {
      "cell_type": "code",
      "source": [
        ""
      ],
      "metadata": {
        "id": "Nst4mRXGvRyq"
      },
      "execution_count": null,
      "outputs": []
    }
  ]
}