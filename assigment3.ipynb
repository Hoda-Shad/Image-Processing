{
  "nbformat": 4,
  "nbformat_minor": 0,
  "metadata": {
    "colab": {
      "name": "assigment3.ipynb",
      "provenance": [],
      "collapsed_sections": [],
      "authorship_tag": "ABX9TyOkwiplXkK2hLGfs2TOXgEW",
      "include_colab_link": true
    },
    "kernelspec": {
      "name": "python3",
      "display_name": "Python 3"
    },
    "language_info": {
      "name": "python"
    }
  },
  "cells": [
    {
      "cell_type": "markdown",
      "metadata": {
        "id": "view-in-github",
        "colab_type": "text"
      },
      "source": [
        "<a href=\"https://colab.research.google.com/github/Hoda-Shad/Image-Processing/blob/main/assigment3.ipynb\" target=\"_parent\"><img src=\"https://colab.research.google.com/assets/colab-badge.svg\" alt=\"Open In Colab\"/></a>"
      ]
    },
    {
      "cell_type": "markdown",
      "source": [
        "#1"
      ],
      "metadata": {
        "id": "VF9cvKH5ae_F"
      }
    },
    {
      "cell_type": "code",
      "source": [
        ""
      ],
      "metadata": {
        "id": "fuOmrrfoankb"
      },
      "execution_count": null,
      "outputs": []
    },
    {
      "cell_type": "code",
      "source": [
        "import random \n",
        "words = ['book', 'tree' , 'python', 'bag', 'umbrella', 'dog', 'clock', 'engineer', 'toothpate', 'shirmoz']\n",
        "word = random.choice(words)\n",
        "joon = 10 \n",
        "i=0\n",
        "a = len(word)\n",
        "print ('-'*len(word))\n",
        "while joon > 0 : \n",
        "  \n",
        "  user_character = input()\n",
        "  user_character = user_character.casefold()\n",
        "  \n",
        "  if user_character in word:\n",
        "    print ('yes')\n",
        "    a-=1\n",
        "  else: \n",
        "    joon-=1\n",
        "    print('no')\n",
        "  if a == 0:\n",
        "    print('you won')\n",
        "    break\n"
      ],
      "metadata": {
        "colab": {
          "base_uri": "https://localhost:8080/"
        },
        "id": "yWpMDNx1bO07",
        "outputId": "cad69c45-57e9-471d-d7ff-7375b0fee389"
      },
      "execution_count": 2,
      "outputs": [
        {
          "output_type": "stream",
          "name": "stdout",
          "text": [
            "----\n",
            "B\n",
            "yes\n",
            "o\n",
            "yes\n",
            "o\n",
            "yes\n",
            "K\n",
            "yes\n",
            "you won\n"
          ]
        }
      ]
    },
    {
      "cell_type": "markdown",
      "source": [
        "#2"
      ],
      "metadata": {
        "id": "AO2vBKqKM0Ep"
      }
    },
    {
      "cell_type": "code",
      "execution_count": 10,
      "metadata": {
        "id": "4LTWSFZXHWSo",
        "colab": {
          "base_uri": "https://localhost:8080/"
        },
        "outputId": "2d65b0ec-7713-4e08-aadd-2ab758c911a5"
      },
      "outputs": [
        {
          "output_type": "stream",
          "name": "stdout",
          "text": [
            "Enter n: 10\n",
            "[132, 567, 870, 223, 590, 769, 287, 297, 873, 241]\n"
          ]
        }
      ],
      "source": [
        "import random \n",
        "n = int(input(\"Enter n: \"))\n",
        "list = []\n",
        "for i in range (n):\n",
        "  a = random.randint(0,1000)\n",
        "  if a not in list: \n",
        "    list.append (a)\n",
        "print (list)"
      ]
    },
    {
      "cell_type": "markdown",
      "source": [
        "#3"
      ],
      "metadata": {
        "id": "-Ov7h_5LNMTk"
      }
    },
    {
      "cell_type": "code",
      "source": [
        "n = int(input(\"Enter lenght of the list: \"))\n",
        "list = []\n",
        "for i in range (n):\n",
        "  list.append(int(input(\"Enter a list members: \")))\n",
        "list \n",
        "if (all(list[i] <= list[i+1] for i in range(len(list) - 1))) == False:\n",
        "  print(\"List is not sorted\")\n",
        "else:\n",
        "  print (\"List is sorted\")"
      ],
      "metadata": {
        "colab": {
          "base_uri": "https://localhost:8080/"
        },
        "id": "N7ngKJ7tNNvb",
        "outputId": "e35bb5b1-58c3-4732-9f32-55eb7797c91f"
      },
      "execution_count": 17,
      "outputs": [
        {
          "output_type": "stream",
          "name": "stdout",
          "text": [
            "Enter lenght of the list: 5\n",
            "Enter a list members: 1\n",
            "Enter a list members: 2\n",
            "Enter a list members: 3\n",
            "Enter a list members: 4\n",
            "Enter a list members: 5\n",
            "List is sorted\n"
          ]
        }
      ]
    },
    {
      "cell_type": "markdown",
      "source": [
        "#4\n"
      ],
      "metadata": {
        "id": "YMRwlRc8QruZ"
      }
    },
    {
      "cell_type": "code",
      "source": [
        "n = int(input (\"Enter number: \"))\n",
        "i=0\n",
        "while (i<n):\n",
        "  print ( \"*\", end = \"\")\n",
        "  i+=1\n",
        " \n",
        "  if i <n: \n",
        "    print (\"#\", end = \"\")\n",
        "    i+=1\n",
        "   "
      ],
      "metadata": {
        "colab": {
          "base_uri": "https://localhost:8080/"
        },
        "id": "jaZAVJVnQuiB",
        "outputId": "e4bec6f1-92ab-4502-baf5-e42c1b85d8dd"
      },
      "execution_count": 6,
      "outputs": [
        {
          "output_type": "stream",
          "name": "stdout",
          "text": [
            "Enter number: 5\n",
            "*#*#*"
          ]
        }
      ]
    },
    {
      "cell_type": "code",
      "source": [
        "n = int(input (\"Enter number: \"))\n",
        "for i in range (n):\n",
        "  if i %2 == 0:\n",
        "    print(\"*\", end=\"\") \n",
        "  else :\n",
        "    print(\"#\", end=\"\")"
      ],
      "metadata": {
        "colab": {
          "base_uri": "https://localhost:8080/"
        },
        "id": "U3X1S2OVYemc",
        "outputId": "9d0a9df2-ed15-459d-cdfc-4009fb9d20e1"
      },
      "execution_count": 8,
      "outputs": [
        {
          "output_type": "stream",
          "name": "stdout",
          "text": [
            "Enter number: 5\n",
            "*#*#*"
          ]
        }
      ]
    }
  ]
}