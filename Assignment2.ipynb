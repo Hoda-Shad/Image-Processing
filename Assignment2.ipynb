{
  "nbformat": 4,
  "nbformat_minor": 0,
  "metadata": {
    "colab": {
      "name": "Assignment2.ipynb",
      "provenance": [],
      "collapsed_sections": [],
      "authorship_tag": "ABX9TyOLg47PEmcPIJ0On/q+p0F7",
      "include_colab_link": true
    },
    "kernelspec": {
      "name": "python3",
      "display_name": "Python 3"
    },
    "language_info": {
      "name": "python"
    }
  },
  "cells": [
    {
      "cell_type": "markdown",
      "metadata": {
        "id": "view-in-github",
        "colab_type": "text"
      },
      "source": [
        "<a href=\"https://colab.research.google.com/github/Hoda-Shad/Image-Processing/blob/main/Assignment2.ipynb\" target=\"_parent\"><img src=\"https://colab.research.google.com/assets/colab-badge.svg\" alt=\"Open In Colab\"/></a>"
      ]
    },
    {
      "cell_type": "markdown",
      "source": [
        "#1"
      ],
      "metadata": {
        "id": "bfcqKrErJ4ZC"
      }
    },
    {
      "cell_type": "code",
      "execution_count": 42,
      "metadata": {
        "colab": {
          "base_uri": "https://localhost:8080/"
        },
        "id": "c7GN_QXpCUwt",
        "outputId": "2355f080-9d64-48cf-9615-96c981855516"
      },
      "outputs": [
        {
          "output_type": "stream",
          "name": "stdout",
          "text": [
            "Enter your digit :44\n",
            "to break loop enter exit: \n",
            "Enter your digit :10\n",
            "to break loop enter exit: exit\n",
            "54\n"
          ]
        }
      ],
      "source": [
        "sum = 0\n",
        "while (True):\n",
        "  Digit =int( input(\"Enter your digit :\"))\n",
        "  sum = Digit + sum\n",
        "  a = input(\"to break loop enter exit: \")\n",
        "  if a == 'exit': \n",
        "    break\n",
        "print (\"The sum of digits is: \",sum)  "
      ]
    },
    {
      "cell_type": "markdown",
      "source": [
        "#2\n"
      ],
      "metadata": {
        "id": "kKMOmOCiJ7Uo"
      }
    },
    {
      "cell_type": "code",
      "source": [
        "a = int (input(\"Enter the Houres: \"))\n",
        "b = int (input (\"Enter the Minutes:  \"))\n",
        "c = int (input (\"Enter the Second: \"))\n",
        "\n",
        "print (\"time to second is :\", a*3600 + b*60 + c)"
      ],
      "metadata": {
        "colab": {
          "base_uri": "https://localhost:8080/"
        },
        "id": "NpPU9XuKKR2a",
        "outputId": "47d22e67-d0bb-4009-de36-b5b127fb0f2d"
      },
      "execution_count": 62,
      "outputs": [
        {
          "output_type": "stream",
          "name": "stdout",
          "text": [
            "Enter the Houres: 1\n",
            "Enter the Minutes:  25\n",
            "Enter the Second: 36\n",
            "time to second is : 5136\n"
          ]
        }
      ]
    },
    {
      "cell_type": "code",
      "source": [
        "from posixpath import split\n",
        "t = input()\n",
        "time = t.split(\":\")\n",
        "print(\"time to second is :\", int(time[0])*3600 + int(time[1])*60 + int(time[2]))"
      ],
      "metadata": {
        "colab": {
          "base_uri": "https://localhost:8080/"
        },
        "id": "a8qb7ml8PAPf",
        "outputId": "1774b3e3-884e-4873-9073-69f7cd3f4b64"
      },
      "execution_count": 61,
      "outputs": [
        {
          "output_type": "stream",
          "name": "stdout",
          "text": [
            "1:25:36\n",
            "time to second is : 5136\n"
          ]
        }
      ]
    },
    {
      "cell_type": "markdown",
      "source": [
        "#3\n"
      ],
      "metadata": {
        "id": "d-BgzJ6zSWeV"
      }
    },
    {
      "cell_type": "code",
      "source": [
        "Seconds = int (input(\"Enter the seconds \"))\n",
        "hours = Seconds // 3600\n",
        "if (Seconds % 3600)>60:\n",
        "  minutes = (Seconds % 3600)//60\n",
        "else:\n",
        "   minutes = (Seconds % 3600)\n",
        "if (Seconds % 3600)%60 > 60 :\n",
        "  seconds = ((Seconds % 3600)%60)//60\n",
        "else: \n",
        "  seconds = ((Seconds % 3600)%60) \n",
        "s = f'{hours:d}:{minutes:02d}:{seconds:02d}'.format(hours, minutes, seconds)\n",
        "s"
      ],
      "metadata": {
        "colab": {
          "base_uri": "https://localhost:8080/",
          "height": 54
        },
        "id": "avxNZ5JGTm7y",
        "outputId": "15de062c-698d-43f0-8d9d-b2eb0ff595ed"
      },
      "execution_count": 80,
      "outputs": [
        {
          "name": "stdout",
          "output_type": "stream",
          "text": [
            "Enter the seconds 3690\n"
          ]
        },
        {
          "output_type": "execute_result",
          "data": {
            "application/vnd.google.colaboratory.intrinsic+json": {
              "type": "string"
            },
            "text/plain": [
              "'1:01:30'"
            ]
          },
          "metadata": {},
          "execution_count": 80
        }
      ]
    },
    {
      "cell_type": "code",
      "source": [
        "import datetime\n",
        "t = int(input(\"Enter time in seconds :\"))\n",
        "str(datetime.timedelta(seconds=t))"
      ],
      "metadata": {
        "colab": {
          "base_uri": "https://localhost:8080/",
          "height": 54
        },
        "id": "IqZGRR7TXbZc",
        "outputId": "f3f3ac6a-1e99-4064-ce80-e5f96e2ae873"
      },
      "execution_count": 81,
      "outputs": [
        {
          "name": "stdout",
          "output_type": "stream",
          "text": [
            "Enter time in seconds :3690\n"
          ]
        },
        {
          "output_type": "execute_result",
          "data": {
            "application/vnd.google.colaboratory.intrinsic+json": {
              "type": "string"
            },
            "text/plain": [
              "'1:01:30'"
            ]
          },
          "metadata": {},
          "execution_count": 81
        }
      ]
    },
    {
      "cell_type": "markdown",
      "source": [
        "#4"
      ],
      "metadata": {
        "id": "dD-0qx4RZ5ke"
      }
    },
    {
      "cell_type": "code",
      "source": [
        "n = int(input(\"Enter the number of students: \"))\n",
        "m=n\n",
        "avg=0\n",
        "max = 0\n",
        "min = 20\n",
        "while (n>0):\n",
        "  score = float (input(\"Enter the score: \"))\n",
        "  avg += score\n",
        "  if score > max:\n",
        "    max = score\n",
        "  if score < min:\n",
        "    min = score\n",
        "  n-=1\n",
        "print (\"The average of scores is :\" , avg/m)\n",
        "print (\"The minimum of scores is :\", min)\n",
        "print (\"The maximum of scores is :\", max)"
      ],
      "metadata": {
        "colab": {
          "base_uri": "https://localhost:8080/"
        },
        "id": "5Yhy5DPNZ0XT",
        "outputId": "33292914-c57a-4184-8229-fd859ee9d65f"
      },
      "execution_count": 107,
      "outputs": [
        {
          "output_type": "stream",
          "name": "stdout",
          "text": [
            "Enter the number of students: 3\n",
            "Enter the score: 15\n",
            "Enter the score: 12\n",
            "Enter the score: 11\n",
            "The average of scores is : 12.666666666666666\n",
            "The minimum of scores is : 11.0\n",
            "The maximum of scores is : 15.0\n"
          ]
        }
      ]
    },
    {
      "cell_type": "code",
      "source": [
        ""
      ],
      "metadata": {
        "id": "DfTJMVlK8jFh"
      },
      "execution_count": null,
      "outputs": []
    },
    {
      "cell_type": "code",
      "source": [
        "n = int (input(\"Enter the number of students: \"))\n",
        "scores = []\n",
        "sum = 0\n",
        "min = 20\n",
        "max = 0\n",
        "for i in range (n) : \n",
        "  scores.append (int(input(\"Enter the scores: \")))\n",
        "  sum += scores[i]\n",
        "  if (scores[i] > max):\n",
        "    max = scores [i]\n",
        "  if ( scores [i]< min):\n",
        "    min = scores [i]\n",
        "print(sum / n)\n",
        "print(max)\n",
        "print(min)"
      ],
      "metadata": {
        "colab": {
          "base_uri": "https://localhost:8080/"
        },
        "id": "rtNnrFUB8WEW",
        "outputId": "d5b98849-e444-4b25-ef0e-30b788f9e353"
      },
      "execution_count": 23,
      "outputs": [
        {
          "output_type": "stream",
          "name": "stdout",
          "text": [
            "Enter the number of students: 2\n",
            "Enter the scores: 15\n",
            "Enter the scores: 11\n",
            "13.0\n",
            "15\n",
            "11\n"
          ]
        }
      ]
    },
    {
      "cell_type": "markdown",
      "source": [
        "#5\n"
      ],
      "metadata": {
        "id": "A-JakdwfBCnE"
      }
    },
    {
      "cell_type": "code",
      "source": [
        "import random\n",
        "while True:\n",
        "  Dice = random.randint(1,6)\n",
        "  print(Dice)\n",
        "  if Dice == 6:\n",
        "    print(random.randint(1,6))\n",
        "  else:\n",
        "    break"
      ],
      "metadata": {
        "colab": {
          "base_uri": "https://localhost:8080/"
        },
        "id": "sqzw11cFBEZc",
        "outputId": "33a6ed0d-77cf-49f9-ce1b-4c22b46c4cb2"
      },
      "execution_count": 47,
      "outputs": [
        {
          "output_type": "stream",
          "name": "stdout",
          "text": [
            "6\n",
            "6\n",
            "3\n"
          ]
        }
      ]
    },
    {
      "cell_type": "markdown",
      "source": [
        "#6"
      ],
      "metadata": {
        "id": "5AMq1Qw9C6G5"
      }
    },
    {
      "cell_type": "code",
      "source": [
        "n = int (input(\"Enter the number: \"))\n",
        "def fibonacci_nums(n):\n",
        "  if n <= 0:\n",
        "    return [0]\n",
        "  sequence = [0, 1]\n",
        "  while len(sequence) <= n:\n",
        "    next_value = sequence[len(sequence) - 1] + sequence[len(sequence) - 2]\n",
        "    sequence.append(next_value)\n",
        "  return (sequence)\n",
        "print (fibonacci_nums(n))"
      ],
      "metadata": {
        "colab": {
          "base_uri": "https://localhost:8080/"
        },
        "id": "3f6AVnAADGBQ",
        "outputId": "4ad0f73c-4a23-4f35-961f-2826e2ea94e4"
      },
      "execution_count": 86,
      "outputs": [
        {
          "output_type": "stream",
          "name": "stdout",
          "text": [
            "Enter the number: 5\n",
            "[0, 1, 1, 2, 3, 5]\n"
          ]
        }
      ]
    },
    {
      "cell_type": "code",
      "source": [
        ""
      ],
      "metadata": {
        "id": "YqB-q9ucikfb"
      },
      "execution_count": null,
      "outputs": []
    }
  ]
}