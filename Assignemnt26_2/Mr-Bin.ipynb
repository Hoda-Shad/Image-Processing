{
 "cells": [
  {
   "cell_type": "code",
   "execution_count": 2,
   "id": "311fc309-caa2-43fc-8ef0-c33eb488e2df",
   "metadata": {},
   "outputs": [],
   "source": [
    "import mtcnn\n",
    "import cv2\n",
    "import random\n",
    "import matplotlib as plt\n"
   ]
  },
  {
   "cell_type": "code",
   "execution_count": 3,
   "id": "63cea42c-c8bf-46fe-9daf-4379a15fb790",
   "metadata": {},
   "outputs": [],
   "source": [
    "img = cv2.imread('mrbean_input.JPG',0)"
   ]
  },
  {
   "cell_type": "code",
   "execution_count": 4,
   "id": "7ad27ddd-1c96-424a-bea2-6df8042fe916",
   "metadata": {},
   "outputs": [],
   "source": [
    "rows , cols = img.shape"
   ]
  },
  {
   "cell_type": "code",
   "execution_count": 5,
   "id": "761c2ee0-a3cf-45e8-8401-c256f7b27e11",
   "metadata": {},
   "outputs": [],
   "source": [
    "for k in range (200):\n",
    "    i = random.randint(0,rows-1)\n",
    "    j = random.randint(0,cols-1)\n",
    "    img [i,j] = 255\n",
    "for k in range (200):\n",
    "    i = random.randint(0,rows-1)\n",
    "    j = random.randint(0,cols-1)\n",
    "    img [i,j] = 0  \n",
    "cv2.imshow('Output',img)\n",
    "cv2.waitKey()"
   ]
  },
  {
   "cell_type": "code",
   "execution_count": null,
   "id": "d8dad3b4-56ae-4edf-acf7-633c85638f94",
   "metadata": {},
   "outputs": [],
   "source": [
    "### noisy & noiseless"
   ]
  },
  {
   "cell_type": "code",
   "execution_count": 29,
   "id": "07156401-409c-4de4-b8a8-b34942aab687",
   "metadata": {
    "tags": []
   },
   "outputs": [
    {
     "data": {
      "text/plain": [
       "True"
      ]
     },
     "execution_count": 29,
     "metadata": {},
     "output_type": "execute_result"
    }
   ],
   "source": [
    "\n",
    "import numpy as np\n",
    "from skimage.util import random_noise\n",
    "\n",
    "im = cv2.imread('mrbean_input.JPG',0)\n",
    "im_arr = np.asarray(im)\n",
    "noise_img = random_noise(im_arr, mode='gaussian', var=0.05**2)\n",
    "noise_img = (255*noise_img).astype(np.uint8)\n",
    "\n",
    "cv2.imwrite('noisy_image.jpg',noise_img)\n",
    "noiseless_image_bw = cv2.fastNlMeansDenoising(noise_img, None, 20, 7, 21) \n",
    "cv2.imwrite('noiseless_image.jpg',noiseless_image_bw)"
   ]
  },
  {
   "cell_type": "code",
   "execution_count": null,
   "id": "60da9fc4-413d-4874-b534-a5605afcf277",
   "metadata": {},
   "outputs": [],
   "source": []
  }
 ],
 "metadata": {
  "kernelspec": {
   "display_name": "Python 3 (ipykernel)",
   "language": "python",
   "name": "python3"
  },
  "language_info": {
   "codemirror_mode": {
    "name": "ipython",
    "version": 3
   },
   "file_extension": ".py",
   "mimetype": "text/x-python",
   "name": "python",
   "nbconvert_exporter": "python",
   "pygments_lexer": "ipython3",
   "version": "3.10.0"
  }
 },
 "nbformat": 4,
 "nbformat_minor": 5
}
