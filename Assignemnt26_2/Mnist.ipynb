{
 "cells": [
  {
   "cell_type": "code",
   "execution_count": 23,
   "id": "01aeb9a7-850c-4242-86f9-bd8cd352cb24",
   "metadata": {},
   "outputs": [],
   "source": [
    "import cv2\n",
    "import os \n",
    "for i in range (10):\n",
    "    if not os.path.exists(f'mnist_images {i}'):\n",
    "        os.makedirs(f'mnist_images {i}')\n",
    "img = cv2.imread('mnist.png',0)\n",
    "w,h  = img.shape\n",
    "for i in range(0,w , 20):\n",
    "    k = i//100\n",
    "    for j in range(0,h, 20):\n",
    "         num = img[i:i+20 , j:j+20] \n",
    "         cv2.imwrite(f\"mnist_images {k}/num{i}{j}.jpg\", num)\n"
   ]
  },
  {
   "cell_type": "code",
   "execution_count": null,
   "id": "ea63c688-5573-4bee-97db-26f6bc0c95c8",
   "metadata": {},
   "outputs": [],
   "source": []
  }
 ],
 "metadata": {
  "kernelspec": {
   "display_name": "Python 3 (ipykernel)",
   "language": "python",
   "name": "python3"
  },
  "language_info": {
   "codemirror_mode": {
    "name": "ipython",
    "version": 3
   },
   "file_extension": ".py",
   "mimetype": "text/x-python",
   "name": "python",
   "nbconvert_exporter": "python",
   "pygments_lexer": "ipython3",
   "version": "3.10.0"
  }
 },
 "nbformat": 4,
 "nbformat_minor": 5
}
