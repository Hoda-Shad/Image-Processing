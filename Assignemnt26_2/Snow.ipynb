{
 "cells": [
  {
   "cell_type": "code",
   "execution_count": 8,
   "id": "be3e8d7b-af1c-4471-ad48-12f48c2d9d4f",
   "metadata": {},
   "outputs": [],
   "source": [
    "import random\n",
    "import cv2\n",
    "import numpy as np\n",
    "import matplotlib.pyplot as plt\n",
    "from cvzone import overlayPNG\n",
    "import imageio\n",
    "background_img = cv2.imread('snow/2.jpg')\n",
    "\n",
    "snowflakes = []\n",
    "sf_size = 7\n",
    "for i in range(1,4):\n",
    "    snowflake_img = cv2.imread(f'snow/img/{i}.png', -1)\n",
    "    \n",
    "    small_snowflake = cv2.resize(snowflake_img, (sf_size , sf_size))\n",
    "    snowflakes.append(small_snowflake)\n",
    "y, x, _ = background_img.shape\n",
    "sf_pos = [] # stores sf's position\n",
    "for i in range(200): # quantity of sf's are 50\n",
    "    temp_x = random.choice(range(50, x-sf_size))\n",
    "    temp_y = random.choice(range(50, y-sf_size))\n",
    "    sf_pos.append([temp_y, temp_x])\n",
    "    \n",
    "frame_list = [] # stores all the frames\n",
    "\n",
    "for i in range(200): # quantity of frames\n",
    "    frame = background_img\n",
    "    for j in range(200): # should be same as sf's quantity\n",
    "        frame = overlayPNG(frame, snowflakes[j%3], (sf_pos[j][1], sf_pos[j][0])) # snowflakes[] used to make 3 model of sf's- note that i am using index 0 only for output\n",
    "        sf_pos[j][0] += 4\n",
    "        rnd_x = random.choices([0, 4, -4], weights=[30,35,35])[0]\n",
    "        sf_pos[j][1] += rnd_x\n",
    "        if sf_pos[j][0]<0 or sf_pos[j][0]+sf_size>=y or sf_pos[j][1]<0 or sf_pos[j][1]+sf_size>=x:\n",
    "            sf_pos[j][0] = 0\n",
    "            sf_pos[j][1] = random.randint(0, x-sf_size-1) # 10+1:sf's size+1 for array ending\n",
    "                \n",
    "    rgb_frame = cv2.cvtColor(frame, cv2.COLOR_BGR2RGB)\n",
    "    frame_list.append(rgb_frame)\n",
    "imageio.mimsave('snow.gif',frame_list)\n",
    "        "
   ]
  },
  {
   "cell_type": "code",
   "execution_count": null,
   "id": "38f0fbce-6ecd-4792-b479-082ec3e52371",
   "metadata": {},
   "outputs": [],
   "source": []
  },
  {
   "cell_type": "code",
   "execution_count": null,
   "id": "bae549da-febf-4272-a691-9e57c04a20bd",
   "metadata": {},
   "outputs": [],
   "source": []
  }
 ],
 "metadata": {
  "kernelspec": {
   "display_name": "Python 3 (ipykernel)",
   "language": "python",
   "name": "python3"
  },
  "language_info": {
   "codemirror_mode": {
    "name": "ipython",
    "version": 3
   },
   "file_extension": ".py",
   "mimetype": "text/x-python",
   "name": "python",
   "nbconvert_exporter": "python",
   "pygments_lexer": "ipython3",
   "version": "3.10.0"
  }
 },
 "nbformat": 4,
 "nbformat_minor": 5
}
